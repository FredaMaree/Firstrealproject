{
 "cells": [
  {
   "cell_type": "code",
   "execution_count": null,
   "id": "3a8f06ef",
   "metadata": {},
   "outputs": [],
   "source": [
    "#Python file"
   ]
  }
 ],
 "metadata": {
  "language_info": {
   "name": "python"
  }
 },
 "nbformat": 4,
 "nbformat_minor": 5
}
